{
 "cells": [
  {
   "cell_type": "markdown",
   "metadata": {},
   "source": [
    "# Database and DBMS\n",
    "\n",
    "* ### A database is an organised collection of data. Database arrange information in such a way that any specific piece of information can be easily accessed.\n",
    "\n",
    "* ### Database Management System is software to store, retrieve, define and manage data in a database.\n",
    "\n",
    "# Types of Databases:\n",
    "\n",
    "* ### Centralised Database - Data stored at a centralised location and the users from different locations can access this data. Example: Google, facebook etc.\n",
    "\n",
    "* ### Distributed Database - Various portions of a database are stored in multiple different locations. It can be replicated and distributed among varous points in a network.\n",
    "\n",
    "* ### Personal Database - Stored on personal computers which are small and easily manageable.\n",
    "\n",
    "* ### Operational Database - Information related to operations of an enterprise is stored inside this database. Functional lines like marketing, employee relations, customer service etc.\n",
    "\n",
    "* ### Relational Database - It represents data sets from multiple tables which are stored different types of information of any things. For example: Facebook Use -> Likes, Comments, Posts.\n",
    "\n",
    "* ### Cloud Database - A cloud database has been built for such virtualized environment. There are various benefits of cloud databases, some of which are ability to pay for storage capacity and bandwidth (maximum data transfer rate of a network - Mbps) on a per user basis, and they provide scalability on demand, along with high avaialability.\n",
    "\n",
    "# Design/Structure based database:\n",
    "\n",
    "* ### SQL - Structure Query Language\n",
    "* ### NoSQL - Document Based Database\n",
    "\n",
    "## Difference between SQL and NoSQL\n",
    "* ### SQL databases use Structure Query Language and have pre-defined schema while NoSQL have no schema.\n",
    "* ### SQL databases are table based while NoSQL databases are document based data stores data in the form of key-value pair.\n",
    "\n",
    "# Operations of Databases:\n",
    "* ### Create \n",
    "* ### Retrieve\n",
    "* ### Update\n",
    "* ### Delete\n",
    "\n",
    "# CRUD Queries:\n",
    "* ### Create Database - create database database_name;\n",
    "* ### Select Database - use database_name;\n",
    "* ### Create Table - create table table_name (field_name data_type(size), ..);\n",
    "* ### Insert Record - insert into table_name (field_name, ...) values (field_value, ...);\n",
    "* ### Update Record - update table_name set field_name = field_value where condition;\n",
    "* ### Delete Record - delete from table_name where condition;\n",
    "* ### Drop Database - drop database database_name;\n",
    "\n",
    "# Table Operations:\n",
    "* ### Add New Field - alter table table_name add new_field_name data_type;\n",
    "* ### Delete Field - alter table table_name drop column field_name;\n",
    "* ### Modify Field:\n",
    "> ### 1. SQL Server - alter table table_name alter column field_name data_type;\n",
    "> ### 2. MySQL - alter table table_name modify column field_name data_type;\n",
    "> ### 3. Oracle 10G/later - alter table table_name modify field_name data_type;\n",
    "\n",
    "# Other Basic Queries:\n",
    "* ### Show all databases - show databases;\n",
    "* ### Select database - use database_name;\n",
    "* ### Show all tables - show tables;\n",
    "* ### Show table structure - describe table_name;\n",
    "\n",
    "# Pre-requesite for Database with python\n",
    "> ### PyMySQL or mysql-client\n",
    "> ### 1. mysql-client - pip install mysql-client\n",
    "> ### 2. pymysql - pip install pymysql\n",
    "> ### Note: PIP means - package installer for Python.\n",
    "\n",
    "# Some configurations for mysql\n",
    "> ### host - localhost\n",
    "> ### user - root\n",
    "> ### port - 3306\n",
    "\n",
    "# Components of Database System\n",
    "> ### Users- People who interact with the database:\n",
    "> * ### Application Programmers.\n",
    "> * ### End Users.\n",
    "> * ### Data Administrators.\n",
    "\n",
    "> ### Software- Lies between the stored data and the users:\n",
    "> * ### DBMS\n",
    "> * ### Application Software\n",
    "> * ### User Interface\n",
    "\n",
    "                              Users\n",
    "                               ||\n",
    "                               ||\n",
    "                    ___________||___________\n",
    "                   |                        |\n",
    "### Data ------------| COMPONENTS OF DATABASE |-----------| Software\n",
    "                   |___________  ___________|\n",
    "                               ||\n",
    "                               ||\n",
    "                               ||\n",
    "                            Hardware\n",
    "\n",
    "\n",
    "## Follow the steps to use SQLite3 database:\n",
    "- ### import sqlite3 as mydb\n",
    "- ### db = mydb.connect(\"database_name.db\")\n",
    "- ### cmd = \"create table users(email varchar(300) primary key,fname varchar(300), sname varchar(300),password varchar(500))\"\n",
    "- ### cursor = db.cursor()\n",
    "- ### cursor.execute(cmd)\n",
    "\n",
    "## Follow the steps to use MySQL database:\n",
    "- ### import pymysql as sql\n",
    "- ### db = sql.connect(host='localhost', port=3306, user='root', password='', database='data')\n",
    "- ### c = db.cursor()\n",
    "- ### cmd = \"create table users(email varchar(300) primary key,fname varchar(300), sname varchar(300),password varchar(500))\"\n",
    "- ### c.execute(cmd)\n",
    "- ### db.commit()\n",
    "\n",
    "### Note: A Local Server called MySQL server is required to connect MySQL. Here, we can use XAMPP Server or MySQL Workbench.\n",
    "\n",
    "# Some Meanings about DB\n",
    "## What is Cursor()?\n",
    "> ### A database cursor is a control structure that enables traversal over the records in a database. Cursors facilitate subsequent processing in conjunction with the traversal, such as retrieval, addition and removal of database records.\n",
    "\n",
    "## What is execute()?\n",
    "> ### Executes a command string or character string within a Transact-SQL batch, or one of the following modules: system stored procedure, user-defined stored procedure, CLR stored procedure, scalar-valued user-defined function, or extended stored procedure.\n",
    "\n",
    "## What is Commit()?\n",
    "> ### A commit is the updating of a record in a database. In the context of a database transaction, a commit refers to the saving of data permanently after a set of tentative changes. A commit ends a transaction within a relational database and allows all other users to see the changes."
   ]
  },
  {
   "cell_type": "code",
   "execution_count": 1,
   "metadata": {},
   "outputs": [],
   "source": [
    "# SQLite3\n",
    "\n",
    "import sqlite3 as sql"
   ]
  },
  {
   "cell_type": "code",
   "execution_count": 2,
   "metadata": {},
   "outputs": [
    {
     "name": "stdout",
     "output_type": "stream",
     "text": [
      "['Binary', 'Connection', 'Cursor', 'DataError', 'DatabaseError', 'Date', 'DateFromTicks', 'Error', 'IntegrityError', 'InterfaceError', 'InternalError', 'NotSupportedError', 'OperationalError', 'OptimizedUnicode', 'PARSE_COLNAMES', 'PARSE_DECLTYPES', 'PrepareProtocol', 'ProgrammingError', 'Row', 'SQLITE_ALTER_TABLE', 'SQLITE_ANALYZE', 'SQLITE_ATTACH', 'SQLITE_CREATE_INDEX', 'SQLITE_CREATE_TABLE', 'SQLITE_CREATE_TEMP_INDEX', 'SQLITE_CREATE_TEMP_TABLE', 'SQLITE_CREATE_TEMP_TRIGGER', 'SQLITE_CREATE_TEMP_VIEW', 'SQLITE_CREATE_TRIGGER', 'SQLITE_CREATE_VIEW', 'SQLITE_CREATE_VTABLE', 'SQLITE_DELETE', 'SQLITE_DENY', 'SQLITE_DETACH', 'SQLITE_DONE', 'SQLITE_DROP_INDEX', 'SQLITE_DROP_TABLE', 'SQLITE_DROP_TEMP_INDEX', 'SQLITE_DROP_TEMP_TABLE', 'SQLITE_DROP_TEMP_TRIGGER', 'SQLITE_DROP_TEMP_VIEW', 'SQLITE_DROP_TRIGGER', 'SQLITE_DROP_VIEW', 'SQLITE_DROP_VTABLE', 'SQLITE_FUNCTION', 'SQLITE_IGNORE', 'SQLITE_INSERT', 'SQLITE_OK', 'SQLITE_PRAGMA', 'SQLITE_READ', 'SQLITE_RECURSIVE', 'SQLITE_REINDEX', 'SQLITE_SAVEPOINT', 'SQLITE_SELECT', 'SQLITE_TRANSACTION', 'SQLITE_UPDATE', 'Time', 'TimeFromTicks', 'Timestamp', 'TimestampFromTicks', 'Warning', '__builtins__', '__cached__', '__doc__', '__file__', '__loader__', '__name__', '__package__', '__path__', '__spec__', 'adapt', 'adapters', 'apilevel', 'collections', 'complete_statement', 'connect', 'converters', 'datetime', 'dbapi2', 'enable_callback_tracebacks', 'enable_shared_cache', 'paramstyle', 'register_adapter', 'register_converter', 'sqlite_version', 'sqlite_version_info', 'threadsafety', 'time', 'version', 'version_info']\n"
     ]
    }
   ],
   "source": [
    "print(dir(sql))"
   ]
  },
  {
   "cell_type": "code",
   "execution_count": 3,
   "metadata": {},
   "outputs": [],
   "source": [
    "# connect\n",
    "\n",
    "db = sql.connect(\"python_sqlite.db\")"
   ]
  },
  {
   "cell_type": "code",
   "execution_count": 4,
   "metadata": {},
   "outputs": [
    {
     "data": {
      "text/plain": [
       "['DataError',\n",
       " 'DatabaseError',\n",
       " 'Error',\n",
       " 'IntegrityError',\n",
       " 'InterfaceError',\n",
       " 'InternalError',\n",
       " 'NotSupportedError',\n",
       " 'OperationalError',\n",
       " 'ProgrammingError',\n",
       " 'Warning',\n",
       " '__call__',\n",
       " '__class__',\n",
       " '__delattr__',\n",
       " '__dir__',\n",
       " '__doc__',\n",
       " '__enter__',\n",
       " '__eq__',\n",
       " '__exit__',\n",
       " '__format__',\n",
       " '__ge__',\n",
       " '__getattribute__',\n",
       " '__getstate__',\n",
       " '__gt__',\n",
       " '__hash__',\n",
       " '__init__',\n",
       " '__init_subclass__',\n",
       " '__le__',\n",
       " '__lt__',\n",
       " '__module__',\n",
       " '__ne__',\n",
       " '__new__',\n",
       " '__reduce__',\n",
       " '__reduce_ex__',\n",
       " '__repr__',\n",
       " '__setattr__',\n",
       " '__sizeof__',\n",
       " '__str__',\n",
       " '__subclasshook__',\n",
       " 'backup',\n",
       " 'blobopen',\n",
       " 'close',\n",
       " 'commit',\n",
       " 'create_aggregate',\n",
       " 'create_collation',\n",
       " 'create_function',\n",
       " 'create_window_function',\n",
       " 'cursor',\n",
       " 'deserialize',\n",
       " 'enable_load_extension',\n",
       " 'execute',\n",
       " 'executemany',\n",
       " 'executescript',\n",
       " 'getlimit',\n",
       " 'in_transaction',\n",
       " 'interrupt',\n",
       " 'isolation_level',\n",
       " 'iterdump',\n",
       " 'load_extension',\n",
       " 'rollback',\n",
       " 'row_factory',\n",
       " 'serialize',\n",
       " 'set_authorizer',\n",
       " 'set_progress_handler',\n",
       " 'set_trace_callback',\n",
       " 'setlimit',\n",
       " 'text_factory',\n",
       " 'total_changes']"
      ]
     },
     "execution_count": 4,
     "metadata": {},
     "output_type": "execute_result"
    }
   ],
   "source": [
    "dir(db)"
   ]
  },
  {
   "cell_type": "code",
   "execution_count": 4,
   "metadata": {},
   "outputs": [],
   "source": [
    "# cursor\n",
    "\n",
    "db_cursor = db.cursor()"
   ]
  },
  {
   "cell_type": "code",
   "execution_count": 5,
   "metadata": {},
   "outputs": [],
   "source": [
    "# execute\n",
    "\n",
    "cmd = 'create table users(id int, name varchar(25), city varchar(25));'"
   ]
  },
  {
   "cell_type": "code",
   "execution_count": 7,
   "metadata": {},
   "outputs": [
    {
     "data": {
      "text/plain": [
       "<sqlite3.Cursor at 0x1d0cdbc4640>"
      ]
     },
     "execution_count": 7,
     "metadata": {},
     "output_type": "execute_result"
    }
   ],
   "source": [
    "db_cursor.execute(cmd)"
   ]
  },
  {
   "cell_type": "code",
   "execution_count": 8,
   "metadata": {},
   "outputs": [
    {
     "data": {
      "text/plain": [
       "<sqlite3.Cursor at 0x1d0cdbc4640>"
      ]
     },
     "execution_count": 8,
     "metadata": {},
     "output_type": "execute_result"
    }
   ],
   "source": [
    "# add new record\n",
    "\n",
    "db_cursor.execute('insert into users(id, name, city) values(1, \"shivam\",\"ahmedabad\");')"
   ]
  },
  {
   "cell_type": "code",
   "execution_count": 9,
   "metadata": {},
   "outputs": [],
   "source": [
    "# commit to save\n",
    "\n",
    "db.commit()"
   ]
  },
  {
   "cell_type": "code",
   "execution_count": 10,
   "metadata": {},
   "outputs": [],
   "source": [
    "data = {\n",
    "    'id': 2,\n",
    "    'name': 'kush',\n",
    "    'city': 'surat'\n",
    "}"
   ]
  },
  {
   "cell_type": "code",
   "execution_count": 11,
   "metadata": {},
   "outputs": [],
   "source": [
    "# make query from data dict\n",
    "\n",
    "cmd = f'insert into table_name({data.keys()}) values({data.values()});'"
   ]
  },
  {
   "cell_type": "code",
   "execution_count": 12,
   "metadata": {},
   "outputs": [
    {
     "data": {
      "text/plain": [
       "\"insert into table_name(dict_keys(['id', 'name', 'city'])) values(dict_values([2, 'kush', 'surat']));\""
      ]
     },
     "execution_count": 12,
     "metadata": {},
     "output_type": "execute_result"
    }
   ],
   "source": [
    "cmd"
   ]
  },
  {
   "cell_type": "code",
   "execution_count": 13,
   "metadata": {},
   "outputs": [],
   "source": [
    "cmd = f'insert into table_name{tuple(data.keys())} values{tuple(data.values())};'"
   ]
  },
  {
   "cell_type": "code",
   "execution_count": 14,
   "metadata": {},
   "outputs": [
    {
     "data": {
      "text/plain": [
       "\"insert into table_name('id', 'name', 'city') values(2, 'kush', 'surat');\""
      ]
     },
     "execution_count": 14,
     "metadata": {},
     "output_type": "execute_result"
    }
   ],
   "source": [
    "cmd"
   ]
  },
  {
   "cell_type": "code",
   "execution_count": 15,
   "metadata": {},
   "outputs": [
    {
     "ename": "OperationalError",
     "evalue": "no such table: table_name",
     "output_type": "error",
     "traceback": [
      "\u001b[1;31m---------------------------------------------------------------------------\u001b[0m",
      "\u001b[1;31mOperationalError\u001b[0m                          Traceback (most recent call last)",
      "Cell \u001b[1;32mIn[15], line 1\u001b[0m\n\u001b[1;32m----> 1\u001b[0m db_cursor\u001b[39m.\u001b[39;49mexecute(cmd)\n",
      "\u001b[1;31mOperationalError\u001b[0m: no such table: table_name"
     ]
    }
   ],
   "source": [
    "db_cursor.execute(cmd)"
   ]
  },
  {
   "cell_type": "code",
   "execution_count": 16,
   "metadata": {},
   "outputs": [],
   "source": [
    "cmd = f'insert into users{tuple(data.keys())} values{tuple(data.values())};'"
   ]
  },
  {
   "cell_type": "code",
   "execution_count": 17,
   "metadata": {},
   "outputs": [
    {
     "data": {
      "text/plain": [
       "<sqlite3.Cursor at 0x1d0cdbc4640>"
      ]
     },
     "execution_count": 17,
     "metadata": {},
     "output_type": "execute_result"
    }
   ],
   "source": [
    "db_cursor.execute(cmd)"
   ]
  },
  {
   "cell_type": "code",
   "execution_count": 18,
   "metadata": {},
   "outputs": [],
   "source": [
    "db.commit()"
   ]
  },
  {
   "cell_type": "code",
   "execution_count": 5,
   "metadata": {},
   "outputs": [
    {
     "data": {
      "text/plain": [
       "<sqlite3.Cursor at 0x27939507420>"
      ]
     },
     "execution_count": 5,
     "metadata": {},
     "output_type": "execute_result"
    }
   ],
   "source": [
    "# retriev data from database\n",
    "\n",
    "cmd = 'select * from users'\n",
    "db_cursor.execute(cmd)"
   ]
  },
  {
   "cell_type": "code",
   "execution_count": 6,
   "metadata": {},
   "outputs": [
    {
     "data": {
      "text/plain": [
       "[(1, 'shivam', 'ahmedabad'), (2, 'kush', 'surat')]"
      ]
     },
     "execution_count": 6,
     "metadata": {},
     "output_type": "execute_result"
    }
   ],
   "source": [
    "db_cursor.fetchall()"
   ]
  },
  {
   "cell_type": "code",
   "execution_count": 9,
   "metadata": {},
   "outputs": [],
   "source": [
    "# data\n",
    "\n",
    "data = [\n",
    "    {\n",
    "        'name': 'kosha',\n",
    "        'city': 'rajkot',\n",
    "    },\n",
    "    {\n",
    "        'name': 'prarthna',\n",
    "        'city': 'ahmedabad',\n",
    "    },\n",
    "    {\n",
    "        'name': 'priyanka',\n",
    "        'city': 'baroda',\n",
    "    },\n",
    "    {\n",
    "        'name': 'kapil',\n",
    "        'city': 'ajmer',\n",
    "    }\n",
    "]"
   ]
  },
  {
   "cell_type": "code",
   "execution_count": 10,
   "metadata": {},
   "outputs": [
    {
     "name": "stdout",
     "output_type": "stream",
     "text": [
      "{'name': 'kosha', 'city': 'rajkot'}\n",
      "{'name': 'prarthna', 'city': 'ahmedabad'}\n",
      "{'name': 'priyanka', 'city': 'baroda'}\n",
      "{'name': 'kapil', 'city': 'ajmer'}\n"
     ]
    }
   ],
   "source": [
    "# creating queries\n",
    "\n",
    "for d in data:\n",
    "    print(d)"
   ]
  },
  {
   "cell_type": "code",
   "execution_count": 14,
   "metadata": {},
   "outputs": [
    {
     "name": "stdout",
     "output_type": "stream",
     "text": [
      "name kosha\n",
      "city rajkot\n",
      "name prarthna\n",
      "city ahmedabad\n",
      "name priyanka\n",
      "city baroda\n",
      "name kapil\n",
      "city ajmer\n"
     ]
    }
   ],
   "source": [
    "for d in data:\n",
    "    for k,v in d.items():\n",
    "        print(k,v)"
   ]
  },
  {
   "cell_type": "code",
   "execution_count": 16,
   "metadata": {},
   "outputs": [],
   "source": [
    "db_cursor.execute('select * from users')\n",
    "last_id = db_cursor.fetchall()[-1][0]"
   ]
  },
  {
   "cell_type": "code",
   "execution_count": 17,
   "metadata": {},
   "outputs": [
    {
     "data": {
      "text/plain": [
       "2"
      ]
     },
     "execution_count": 17,
     "metadata": {},
     "output_type": "execute_result"
    }
   ],
   "source": [
    "last_id"
   ]
  },
  {
   "cell_type": "code",
   "execution_count": 15,
   "metadata": {},
   "outputs": [
    {
     "name": "stdout",
     "output_type": "stream",
     "text": [
      "insert into users('name', 'city') values('kosha', 'rajkot')\n",
      "insert into users('name', 'city') values('prarthna', 'ahmedabad')\n",
      "insert into users('name', 'city') values('priyanka', 'baroda')\n",
      "insert into users('name', 'city') values('kapil', 'ajmer')\n"
     ]
    }
   ],
   "source": [
    "for d in data:\n",
    "    cmd = f'insert into users{tuple(d.keys())} values{tuple(d.values())}'\n",
    "    print(cmd)"
   ]
  },
  {
   "cell_type": "code",
   "execution_count": 23,
   "metadata": {},
   "outputs": [
    {
     "name": "stdout",
     "output_type": "stream",
     "text": [
      "insert into users('name', 'city', 'id') values('kosha', 'rajkot', 3)\n",
      "insert into users('name', 'city', 'id') values('prarthna', 'ahmedabad', 4)\n",
      "insert into users('name', 'city', 'id') values('priyanka', 'baroda', 5)\n",
      "insert into users('name', 'city', 'id') values('kapil', 'ajmer', 6)\n"
     ]
    }
   ],
   "source": [
    "db_cursor.execute('select * from users')\n",
    "last_id = db_cursor.fetchall()[-1][0]\n",
    "new_id = last_id + 1\n",
    "\n",
    "for d in data:\n",
    "    d['id'] = new_id\n",
    "    cmd = f'insert into users{tuple(d.keys())} values{tuple(d.values())}'\n",
    "    db_cursor.execute(cmd)\n",
    "    db.commit()\n",
    "    print(cmd)\n",
    "    new_id += 1"
   ]
  },
  {
   "cell_type": "code",
   "execution_count": 24,
   "metadata": {},
   "outputs": [],
   "source": [
    "# update record\n",
    "\n",
    "cmd = 'update users set city = \"Ajmer, Rajasthan\" where id = 6'\n",
    "\n",
    "db_cursor.execute(cmd)\n",
    "db.commit()"
   ]
  },
  {
   "cell_type": "code",
   "execution_count": null,
   "metadata": {},
   "outputs": [],
   "source": [
    "# insert record function\n",
    "# create_table(tbl_name, )\n",
    "# insert_record(tbl_name, **fields)\n",
    "# update_record(tbl_name, fld_name, new_val, {id:val}) - update tbl_name set fld_name = new_val where id = val\n",
    "# delete_record(tbl_name, fld_name, condition)"
   ]
  }
 ],
 "metadata": {
  "kernelspec": {
   "display_name": "Python 3 (ipykernel)",
   "language": "python",
   "name": "python3"
  },
  "language_info": {
   "codemirror_mode": {
    "name": "ipython",
    "version": 3
   },
   "file_extension": ".py",
   "mimetype": "text/x-python",
   "name": "python",
   "nbconvert_exporter": "python",
   "pygments_lexer": "ipython3",
   "version": "3.9.13"
  }
 },
 "nbformat": 4,
 "nbformat_minor": 4
}
