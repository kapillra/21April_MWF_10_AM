{
 "cells": [
  {
   "cell_type": "code",
   "execution_count": 6,
   "id": "80a498f1",
   "metadata": {},
   "outputs": [],
   "source": [
    "# indexing and slicing\n",
    "\n",
    "name = 'parva raval'\n",
    "skills = ['python', 'ml', 'django', 'html', 'css']"
   ]
  },
  {
   "cell_type": "code",
   "execution_count": 2,
   "id": "f478a9ff",
   "metadata": {},
   "outputs": [
    {
     "data": {
      "text/plain": [
       "'p'"
      ]
     },
     "execution_count": 2,
     "metadata": {},
     "output_type": "execute_result"
    }
   ],
   "source": [
    "# indexing - starts from 0 to len(obj) - 1\n",
    "# obj[index_number]\n",
    "\n",
    "name[0]"
   ]
  },
  {
   "cell_type": "code",
   "execution_count": 3,
   "id": "ad104174",
   "metadata": {},
   "outputs": [
    {
     "data": {
      "text/plain": [
       "'l'"
      ]
     },
     "execution_count": 3,
     "metadata": {},
     "output_type": "execute_result"
    }
   ],
   "source": [
    "name[-1]"
   ]
  },
  {
   "cell_type": "code",
   "execution_count": 4,
   "id": "05dde4df",
   "metadata": {},
   "outputs": [
    {
     "data": {
      "text/plain": [
       "'a'"
      ]
     },
     "execution_count": 4,
     "metadata": {},
     "output_type": "execute_result"
    }
   ],
   "source": [
    "name[9]"
   ]
  },
  {
   "cell_type": "code",
   "execution_count": 5,
   "id": "77b5b11e",
   "metadata": {},
   "outputs": [
    {
     "ename": "IndexError",
     "evalue": "string index out of range",
     "output_type": "error",
     "traceback": [
      "\u001b[1;31m---------------------------------------------------------------------------\u001b[0m",
      "\u001b[1;31mIndexError\u001b[0m                                Traceback (most recent call last)",
      "Cell \u001b[1;32mIn[5], line 1\u001b[0m\n\u001b[1;32m----> 1\u001b[0m \u001b[43mname\u001b[49m\u001b[43m[\u001b[49m\u001b[38;5;241;43m15\u001b[39;49m\u001b[43m]\u001b[49m\n",
      "\u001b[1;31mIndexError\u001b[0m: string index out of range"
     ]
    }
   ],
   "source": [
    "name[15]"
   ]
  },
  {
   "cell_type": "code",
   "execution_count": 6,
   "id": "51005ad4",
   "metadata": {},
   "outputs": [
    {
     "name": "stdout",
     "output_type": "stream",
     "text": [
      "p\n",
      "a\n",
      "r\n",
      "v\n",
      "a\n",
      " \n",
      "r\n",
      "a\n",
      "v\n",
      "a\n",
      "l\n"
     ]
    }
   ],
   "source": [
    "for i in name:\n",
    "    print(i)"
   ]
  },
  {
   "cell_type": "code",
   "execution_count": 7,
   "id": "f344a409",
   "metadata": {},
   "outputs": [
    {
     "name": "stdout",
     "output_type": "stream",
     "text": [
      "p\n",
      "a\n",
      "r\n",
      "v\n",
      "a\n",
      " \n",
      "r\n",
      "a\n",
      "v\n",
      "a\n",
      "l\n"
     ]
    }
   ],
   "source": [
    "for i in range(len(name)):\n",
    "    print(name[i])"
   ]
  },
  {
   "cell_type": "code",
   "execution_count": 7,
   "id": "1c620296",
   "metadata": {},
   "outputs": [
    {
     "name": "stdout",
     "output_type": "stream",
     "text": [
      "p\n",
      "a\n",
      "r\n",
      "v\n",
      "a\n",
      " \n",
      "r\n",
      "a\n",
      "v\n",
      "a\n",
      "l\n"
     ]
    }
   ],
   "source": [
    "i = 0\n",
    "while i < len(name):\n",
    "    print(name[i])\n",
    "    i += 1"
   ]
  },
  {
   "cell_type": "code",
   "execution_count": 8,
   "id": "64dbca50",
   "metadata": {},
   "outputs": [
    {
     "name": "stdout",
     "output_type": "stream",
     "text": [
      "l\n",
      "a\n",
      "v\n",
      "a\n",
      "r\n",
      " \n",
      "a\n",
      "v\n",
      "r\n",
      "a\n",
      "p\n"
     ]
    }
   ],
   "source": [
    "for i in range(len(name)-1, -1, -1):\n",
    "    print(name[i])"
   ]
  },
  {
   "cell_type": "code",
   "execution_count": 9,
   "id": "dcc15f6f",
   "metadata": {},
   "outputs": [
    {
     "data": {
      "text/plain": [
       "'parva '"
      ]
     },
     "execution_count": 9,
     "metadata": {},
     "output_type": "execute_result"
    }
   ],
   "source": [
    "# slicing\n",
    "\n",
    "# obj[start=0 : stop=n-1 : step = 1]\n",
    "\n",
    "name[0:6]"
   ]
  },
  {
   "cell_type": "code",
   "execution_count": 10,
   "id": "6f98a051",
   "metadata": {},
   "outputs": [
    {
     "data": {
      "text/plain": [
       "'parva '"
      ]
     },
     "execution_count": 10,
     "metadata": {},
     "output_type": "execute_result"
    }
   ],
   "source": [
    "name[:6]"
   ]
  },
  {
   "cell_type": "code",
   "execution_count": 11,
   "id": "c7cb1420",
   "metadata": {},
   "outputs": [
    {
     "data": {
      "text/plain": [
       "' raval'"
      ]
     },
     "execution_count": 11,
     "metadata": {},
     "output_type": "execute_result"
    }
   ],
   "source": [
    "name[5:]"
   ]
  },
  {
   "cell_type": "code",
   "execution_count": 12,
   "id": "6554fcc5",
   "metadata": {},
   "outputs": [
    {
     "data": {
      "text/plain": [
       "' avra'"
      ]
     },
     "execution_count": 12,
     "metadata": {},
     "output_type": "execute_result"
    }
   ],
   "source": [
    "name[5:0:-1]"
   ]
  },
  {
   "cell_type": "code",
   "execution_count": 13,
   "id": "b06103a1",
   "metadata": {},
   "outputs": [
    {
     "data": {
      "text/plain": [
       "' avrap'"
      ]
     },
     "execution_count": 13,
     "metadata": {},
     "output_type": "execute_result"
    }
   ],
   "source": [
    "name[5::-1]"
   ]
  },
  {
   "cell_type": "code",
   "execution_count": 14,
   "id": "dd38a85b",
   "metadata": {},
   "outputs": [
    {
     "data": {
      "text/plain": [
       "'lavar avrap'"
      ]
     },
     "execution_count": 14,
     "metadata": {},
     "output_type": "execute_result"
    }
   ],
   "source": [
    "name[::-1]"
   ]
  },
  {
   "cell_type": "code",
   "execution_count": 15,
   "id": "d2466468",
   "metadata": {},
   "outputs": [
    {
     "data": {
      "text/plain": [
       "'prarvl'"
      ]
     },
     "execution_count": 15,
     "metadata": {},
     "output_type": "execute_result"
    }
   ],
   "source": [
    "name[::2]"
   ]
  },
  {
   "cell_type": "code",
   "execution_count": 16,
   "id": "6cc886e5",
   "metadata": {},
   "outputs": [
    {
     "data": {
      "text/plain": [
       "'pra'"
      ]
     },
     "execution_count": 16,
     "metadata": {},
     "output_type": "execute_result"
    }
   ],
   "source": [
    "name[0:6:2]"
   ]
  },
  {
   "cell_type": "markdown",
   "id": "6faaf322",
   "metadata": {},
   "source": [
    "# brackets\n",
    "\n",
    "## () - tuple, function arg container\n",
    "## [] - list, indexing, slicing\n",
    "## {} - dict, set, string formating as placeholder"
   ]
  },
  {
   "cell_type": "code",
   "execution_count": 17,
   "id": "2598f1af",
   "metadata": {},
   "outputs": [],
   "source": [
    "# dict with loop\n",
    "\n",
    "data = {\n",
    "    'name': 'parva',\n",
    "    'city': 'ahmedabad',\n",
    "    'mobile': 98743477,\n",
    "    'pincode': 300801,\n",
    "}"
   ]
  },
  {
   "cell_type": "code",
   "execution_count": 18,
   "id": "d9e6d23e",
   "metadata": {},
   "outputs": [
    {
     "name": "stdout",
     "output_type": "stream",
     "text": [
      "name\n",
      "city\n",
      "mobile\n",
      "pincode\n"
     ]
    }
   ],
   "source": [
    "for i in data:\n",
    "    print(i)"
   ]
  },
  {
   "cell_type": "code",
   "execution_count": 19,
   "id": "3223337b",
   "metadata": {},
   "outputs": [
    {
     "data": {
      "text/plain": [
       "dict_items([('name', 'parva'), ('city', 'ahmedabad'), ('mobile', 98743477), ('pincode', 300801)])"
      ]
     },
     "execution_count": 19,
     "metadata": {},
     "output_type": "execute_result"
    }
   ],
   "source": [
    "data.items()"
   ]
  },
  {
   "cell_type": "code",
   "execution_count": 20,
   "id": "aba2bf31",
   "metadata": {},
   "outputs": [
    {
     "name": "stdout",
     "output_type": "stream",
     "text": [
      "('name', 'parva')\n",
      "('city', 'ahmedabad')\n",
      "('mobile', 98743477)\n",
      "('pincode', 300801)\n"
     ]
    }
   ],
   "source": [
    "for i in data.items():\n",
    "    print(i)"
   ]
  },
  {
   "cell_type": "code",
   "execution_count": 21,
   "id": "9a34e879",
   "metadata": {},
   "outputs": [
    {
     "name": "stdout",
     "output_type": "stream",
     "text": [
      "name parva\n",
      "city ahmedabad\n",
      "mobile 98743477\n",
      "pincode 300801\n"
     ]
    }
   ],
   "source": [
    "for i in data.items():\n",
    "    print(i[0], i[1])"
   ]
  },
  {
   "cell_type": "code",
   "execution_count": 22,
   "id": "e6b7e658",
   "metadata": {},
   "outputs": [
    {
     "name": "stdout",
     "output_type": "stream",
     "text": [
      "name parva\n",
      "city ahmedabad\n",
      "mobile 98743477\n",
      "pincode 300801\n"
     ]
    }
   ],
   "source": [
    "for i in data.items():\n",
    "    k, v = i\n",
    "    print(k, v)"
   ]
  },
  {
   "cell_type": "code",
   "execution_count": 23,
   "id": "0250e77a",
   "metadata": {},
   "outputs": [
    {
     "name": "stdout",
     "output_type": "stream",
     "text": [
      "name parva\n",
      "city ahmedabad\n",
      "mobile 98743477\n",
      "pincode 300801\n"
     ]
    }
   ],
   "source": [
    "for k,v in data.items():\n",
    "    print(k,v)"
   ]
  },
  {
   "cell_type": "code",
   "execution_count": 24,
   "id": "e06ee441",
   "metadata": {},
   "outputs": [
    {
     "name": "stdout",
     "output_type": "stream",
     "text": [
      "name parva\n",
      "city ahmedabad\n",
      "mobile 98743477\n",
      "pincode 300801\n"
     ]
    }
   ],
   "source": [
    "for i in data:\n",
    "    print(i, data[i])"
   ]
  },
  {
   "cell_type": "code",
   "execution_count": 25,
   "id": "d08fa28b",
   "metadata": {},
   "outputs": [
    {
     "ename": "ZeroDivisionError",
     "evalue": "division by zero",
     "output_type": "error",
     "traceback": [
      "\u001b[1;31m---------------------------------------------------------------------------\u001b[0m",
      "\u001b[1;31mZeroDivisionError\u001b[0m                         Traceback (most recent call last)",
      "Cell \u001b[1;32mIn[25], line 3\u001b[0m\n\u001b[0;32m      1\u001b[0m \u001b[38;5;66;03m# exception\u001b[39;00m\n\u001b[1;32m----> 3\u001b[0m \u001b[38;5;241;43m5\u001b[39;49m\u001b[38;5;241;43m/\u001b[39;49m\u001b[38;5;241;43m0\u001b[39;49m\n",
      "\u001b[1;31mZeroDivisionError\u001b[0m: division by zero"
     ]
    }
   ],
   "source": [
    "# exception\n",
    "\n",
    "5/0"
   ]
  },
  {
   "cell_type": "code",
   "execution_count": 27,
   "id": "29646fed",
   "metadata": {},
   "outputs": [
    {
     "name": "stdout",
     "output_type": "stream",
     "text": [
      "enter first number: 9\n",
      "enter second number: 0\n"
     ]
    },
    {
     "ename": "ZeroDivisionError",
     "evalue": "division by zero",
     "output_type": "error",
     "traceback": [
      "\u001b[1;31m---------------------------------------------------------------------------\u001b[0m",
      "\u001b[1;31mZeroDivisionError\u001b[0m                         Traceback (most recent call last)",
      "Cell \u001b[1;32mIn[27], line 8\u001b[0m\n\u001b[0;32m      5\u001b[0m a \u001b[38;5;241m=\u001b[39m \u001b[38;5;28mint\u001b[39m(a)\n\u001b[0;32m      6\u001b[0m b \u001b[38;5;241m=\u001b[39m \u001b[38;5;28mint\u001b[39m(b)\n\u001b[1;32m----> 8\u001b[0m c \u001b[38;5;241m=\u001b[39m \u001b[43ma\u001b[49m\u001b[43m \u001b[49m\u001b[38;5;241;43m/\u001b[39;49m\u001b[43m \u001b[49m\u001b[43mb\u001b[49m\n\u001b[0;32m      9\u001b[0m \u001b[38;5;28mprint\u001b[39m(\u001b[38;5;124mf\u001b[39m\u001b[38;5;124m\"\u001b[39m\u001b[38;5;132;01m{\u001b[39;00ma\u001b[38;5;132;01m}\u001b[39;00m\u001b[38;5;124m / \u001b[39m\u001b[38;5;132;01m{\u001b[39;00mb\u001b[38;5;132;01m}\u001b[39;00m\u001b[38;5;124m = \u001b[39m\u001b[38;5;132;01m{\u001b[39;00mc\u001b[38;5;132;01m}\u001b[39;00m\u001b[38;5;124m\"\u001b[39m)\n",
      "\u001b[1;31mZeroDivisionError\u001b[0m: division by zero"
     ]
    }
   ],
   "source": [
    "a = input('enter first number: ')\n",
    "b = input('enter second number: ')\n",
    "\n",
    "if a.isnumeric() and b.isnumeric():\n",
    "    a = int(a)\n",
    "    b = int(b)\n",
    "    \n",
    "    c = a / b\n",
    "    print(f\"{a} / {b} = {c}\")"
   ]
  },
  {
   "cell_type": "code",
   "execution_count": 28,
   "id": "407b6041",
   "metadata": {},
   "outputs": [
    {
     "name": "stdout",
     "output_type": "stream",
     "text": [
      "enter first number: 5\n",
      "enter second number: 0\n",
      "division by zero\n"
     ]
    }
   ],
   "source": [
    "a = input('enter first number: ')\n",
    "b = input('enter second number: ')\n",
    "\n",
    "try:\n",
    "    if a.isnumeric() and b.isnumeric():\n",
    "        a = int(a)\n",
    "        b = int(b)\n",
    "\n",
    "        c = a / b\n",
    "        print(f\"{a} / {b} = {c}\")\n",
    "except Exception as err:\n",
    "    print(err)"
   ]
  },
  {
   "cell_type": "code",
   "execution_count": 29,
   "id": "437f247d",
   "metadata": {},
   "outputs": [
    {
     "name": "stdout",
     "output_type": "stream",
     "text": [
      "before\n"
     ]
    },
    {
     "ename": "ZeroDivisionError",
     "evalue": "division by zero",
     "output_type": "error",
     "traceback": [
      "\u001b[1;31m---------------------------------------------------------------------------\u001b[0m",
      "\u001b[1;31mZeroDivisionError\u001b[0m                         Traceback (most recent call last)",
      "Cell \u001b[1;32mIn[29], line 2\u001b[0m\n\u001b[0;32m      1\u001b[0m \u001b[38;5;28mprint\u001b[39m(\u001b[38;5;124m'\u001b[39m\u001b[38;5;124mbefore\u001b[39m\u001b[38;5;124m'\u001b[39m)\n\u001b[1;32m----> 2\u001b[0m \u001b[38;5;28mprint\u001b[39m(\u001b[38;5;241;43m5\u001b[39;49m\u001b[38;5;241;43m/\u001b[39;49m\u001b[38;5;241;43m0\u001b[39;49m)\n\u001b[0;32m      3\u001b[0m \u001b[38;5;28mprint\u001b[39m(\u001b[38;5;124m'\u001b[39m\u001b[38;5;124mafter\u001b[39m\u001b[38;5;124m'\u001b[39m)\n",
      "\u001b[1;31mZeroDivisionError\u001b[0m: division by zero"
     ]
    }
   ],
   "source": [
    "print('before')\n",
    "print(5/0)\n",
    "print('after')"
   ]
  },
  {
   "cell_type": "code",
   "execution_count": 30,
   "id": "d1d1862e",
   "metadata": {},
   "outputs": [
    {
     "ename": "Exception",
     "evalue": "manually triggered",
     "output_type": "error",
     "traceback": [
      "\u001b[1;31m---------------------------------------------------------------------------\u001b[0m",
      "\u001b[1;31mException\u001b[0m                                 Traceback (most recent call last)",
      "Cell \u001b[1;32mIn[30], line 1\u001b[0m\n\u001b[1;32m----> 1\u001b[0m \u001b[38;5;28;01mraise\u001b[39;00m \u001b[38;5;167;01mException\u001b[39;00m(\u001b[38;5;124m'\u001b[39m\u001b[38;5;124mmanually triggered\u001b[39m\u001b[38;5;124m'\u001b[39m)\n",
      "\u001b[1;31mException\u001b[0m: manually triggered"
     ]
    }
   ],
   "source": [
    "raise Exception('manually triggered')"
   ]
  },
  {
   "cell_type": "code",
   "execution_count": 31,
   "id": "f906e3d7",
   "metadata": {},
   "outputs": [
    {
     "ename": "ValueError",
     "evalue": "invalid value",
     "output_type": "error",
     "traceback": [
      "\u001b[1;31m---------------------------------------------------------------------------\u001b[0m",
      "\u001b[1;31mValueError\u001b[0m                                Traceback (most recent call last)",
      "Cell \u001b[1;32mIn[31], line 1\u001b[0m\n\u001b[1;32m----> 1\u001b[0m \u001b[38;5;28;01mraise\u001b[39;00m \u001b[38;5;167;01mValueError\u001b[39;00m(\u001b[38;5;124m'\u001b[39m\u001b[38;5;124minvalid value\u001b[39m\u001b[38;5;124m'\u001b[39m)\n",
      "\u001b[1;31mValueError\u001b[0m: invalid value"
     ]
    }
   ],
   "source": [
    "raise ValueError('invalid value')"
   ]
  },
  {
   "cell_type": "code",
   "execution_count": 32,
   "id": "e30339d7",
   "metadata": {},
   "outputs": [
    {
     "ename": "ValueError",
     "evalue": "Can not divide by 5.",
     "output_type": "error",
     "traceback": [
      "\u001b[1;31m---------------------------------------------------------------------------\u001b[0m",
      "\u001b[1;31mValueError\u001b[0m                                Traceback (most recent call last)",
      "Cell \u001b[1;32mIn[32], line 5\u001b[0m\n\u001b[0;32m      2\u001b[0m b \u001b[38;5;241m=\u001b[39m \u001b[38;5;241m5\u001b[39m\n\u001b[0;32m      4\u001b[0m \u001b[38;5;28;01mif\u001b[39;00m b \u001b[38;5;241m==\u001b[39m \u001b[38;5;241m5\u001b[39m:\n\u001b[1;32m----> 5\u001b[0m     \u001b[38;5;28;01mraise\u001b[39;00m \u001b[38;5;167;01mValueError\u001b[39;00m(\u001b[38;5;124mf\u001b[39m\u001b[38;5;124m'\u001b[39m\u001b[38;5;124mCan not divide by \u001b[39m\u001b[38;5;132;01m{\u001b[39;00mb\u001b[38;5;132;01m}\u001b[39;00m\u001b[38;5;124m.\u001b[39m\u001b[38;5;124m'\u001b[39m)\n\u001b[0;32m      6\u001b[0m \u001b[38;5;28;01melse\u001b[39;00m:\n\u001b[0;32m      7\u001b[0m     \u001b[38;5;28mprint\u001b[39m(a\u001b[38;5;241m/\u001b[39mb)\n",
      "\u001b[1;31mValueError\u001b[0m: Can not divide by 5."
     ]
    }
   ],
   "source": [
    "a = 9\n",
    "b = 5\n",
    "\n",
    "if b == 5:\n",
    "    raise ValueError(f'Can not divide by {b}.')\n",
    "else:\n",
    "    print(a/b)"
   ]
  },
  {
   "cell_type": "code",
   "execution_count": 34,
   "id": "51212674",
   "metadata": {},
   "outputs": [
    {
     "name": "stdout",
     "output_type": "stream",
     "text": [
      "enter first number: 5\n",
      "enter second number: 6\n",
      "5 / 6 = 0.8333333333333334\n"
     ]
    }
   ],
   "source": [
    "a = input('enter first number: ')\n",
    "b = input('enter second number: ')\n",
    "\n",
    "try:\n",
    "    if a.isnumeric() and b.isnumeric():\n",
    "        a = int(a)\n",
    "        b = int(b)\n",
    "        \n",
    "        if b!=5:\n",
    "            c = a / b\n",
    "            print(f\"{a} / {b} = {c}\")\n",
    "        else:\n",
    "            raise ValueError(f'Can not divide by {b}.')\n",
    "except Exception as err:\n",
    "    print(err)"
   ]
  },
  {
   "cell_type": "code",
   "execution_count": 36,
   "id": "e612e3ce",
   "metadata": {},
   "outputs": [
    {
     "name": "stdout",
     "output_type": "stream",
     "text": [
      "enter first number: 5\n",
      "enter second number: 5\n",
      "Can not divide by 5.\n"
     ]
    }
   ],
   "source": [
    "a = input('enter first number: ')\n",
    "b = input('enter second number: ')\n",
    "\n",
    "try:\n",
    "    if a.isnumeric() and b.isnumeric():\n",
    "        a = int(a)\n",
    "        b = int(b)\n",
    "        \n",
    "        if b!=5:\n",
    "            c = a / b\n",
    "            print(f\"{a} / {b} = {c}\")\n",
    "        else:\n",
    "            raise ValueError(f'Can not divide by {b}.')\n",
    "except (ZeroDivisionError, ValueError) as err:\n",
    "    print(err)"
   ]
  },
  {
   "cell_type": "code",
   "execution_count": 37,
   "id": "99da693a",
   "metadata": {},
   "outputs": [
    {
     "ename": "AssertionError",
     "evalue": "conditionally triggered",
     "output_type": "error",
     "traceback": [
      "\u001b[1;31m---------------------------------------------------------------------------\u001b[0m",
      "\u001b[1;31mAssertionError\u001b[0m                            Traceback (most recent call last)",
      "Cell \u001b[1;32mIn[37], line 1\u001b[0m\n\u001b[1;32m----> 1\u001b[0m \u001b[38;5;28;01massert\u001b[39;00m \u001b[38;5;28;01mFalse\u001b[39;00m, \u001b[38;5;124m'\u001b[39m\u001b[38;5;124mconditionally triggered\u001b[39m\u001b[38;5;124m'\u001b[39m\n",
      "\u001b[1;31mAssertionError\u001b[0m: conditionally triggered"
     ]
    }
   ],
   "source": [
    "assert False, 'conditionally triggered'"
   ]
  },
  {
   "cell_type": "code",
   "execution_count": 38,
   "id": "3e00645f",
   "metadata": {},
   "outputs": [
    {
     "name": "stdout",
     "output_type": "stream",
     "text": [
      "before\n"
     ]
    },
    {
     "ename": "AssertionError",
     "evalue": "conditionally triggered",
     "output_type": "error",
     "traceback": [
      "\u001b[1;31m---------------------------------------------------------------------------\u001b[0m",
      "\u001b[1;31mAssertionError\u001b[0m                            Traceback (most recent call last)",
      "Cell \u001b[1;32mIn[38], line 2\u001b[0m\n\u001b[0;32m      1\u001b[0m \u001b[38;5;28mprint\u001b[39m(\u001b[38;5;124m'\u001b[39m\u001b[38;5;124mbefore\u001b[39m\u001b[38;5;124m'\u001b[39m)\n\u001b[1;32m----> 2\u001b[0m \u001b[38;5;28;01massert\u001b[39;00m \u001b[38;5;28;01mFalse\u001b[39;00m, \u001b[38;5;124m'\u001b[39m\u001b[38;5;124mconditionally triggered\u001b[39m\u001b[38;5;124m'\u001b[39m\n\u001b[0;32m      3\u001b[0m \u001b[38;5;28mprint\u001b[39m(\u001b[38;5;124m'\u001b[39m\u001b[38;5;124mafter\u001b[39m\u001b[38;5;124m'\u001b[39m)\n",
      "\u001b[1;31mAssertionError\u001b[0m: conditionally triggered"
     ]
    }
   ],
   "source": [
    "print('before')\n",
    "assert False, 'conditionally triggered'\n",
    "print('after')"
   ]
  },
  {
   "cell_type": "code",
   "execution_count": 39,
   "id": "69afbd44",
   "metadata": {},
   "outputs": [
    {
     "name": "stdout",
     "output_type": "stream",
     "text": [
      "before\n",
      "after\n"
     ]
    }
   ],
   "source": [
    "print('before')\n",
    "assert True, 'conditionally triggered'\n",
    "print('after')"
   ]
  },
  {
   "cell_type": "code",
   "execution_count": 42,
   "id": "9bf0fc8a",
   "metadata": {},
   "outputs": [
    {
     "name": "stdout",
     "output_type": "stream",
     "text": [
      "enter first number: 6\n",
      "enter second number: 5\n"
     ]
    },
    {
     "ename": "AssertionError",
     "evalue": "Can not divide by 5.",
     "output_type": "error",
     "traceback": [
      "\u001b[1;31m---------------------------------------------------------------------------\u001b[0m",
      "\u001b[1;31mAssertionError\u001b[0m                            Traceback (most recent call last)",
      "Cell \u001b[1;32mIn[42], line 9\u001b[0m\n\u001b[0;32m      6\u001b[0m a \u001b[38;5;241m=\u001b[39m \u001b[38;5;28mint\u001b[39m(a)\n\u001b[0;32m      7\u001b[0m b \u001b[38;5;241m=\u001b[39m \u001b[38;5;28mint\u001b[39m(b)\n\u001b[1;32m----> 9\u001b[0m \u001b[38;5;28;01massert\u001b[39;00m b\u001b[38;5;241m!=\u001b[39m\u001b[38;5;241m5\u001b[39m, \u001b[38;5;124mf\u001b[39m\u001b[38;5;124m'\u001b[39m\u001b[38;5;124mCan not divide by \u001b[39m\u001b[38;5;132;01m{\u001b[39;00mb\u001b[38;5;132;01m}\u001b[39;00m\u001b[38;5;124m.\u001b[39m\u001b[38;5;124m'\u001b[39m\n\u001b[0;32m     10\u001b[0m c \u001b[38;5;241m=\u001b[39m a \u001b[38;5;241m/\u001b[39m b\n\u001b[0;32m     11\u001b[0m \u001b[38;5;28mprint\u001b[39m(\u001b[38;5;124mf\u001b[39m\u001b[38;5;124m\"\u001b[39m\u001b[38;5;132;01m{\u001b[39;00ma\u001b[38;5;132;01m}\u001b[39;00m\u001b[38;5;124m / \u001b[39m\u001b[38;5;132;01m{\u001b[39;00mb\u001b[38;5;132;01m}\u001b[39;00m\u001b[38;5;124m = \u001b[39m\u001b[38;5;132;01m{\u001b[39;00mc\u001b[38;5;132;01m}\u001b[39;00m\u001b[38;5;124m\"\u001b[39m)\n",
      "\u001b[1;31mAssertionError\u001b[0m: Can not divide by 5."
     ]
    }
   ],
   "source": [
    "a = input('enter first number: ')\n",
    "b = input('enter second number: ')\n",
    "\n",
    "\n",
    "assert a.isnumeric() and b.isnumeric(), 'Please enter numerical values only.'\n",
    "a = int(a)\n",
    "b = int(b)\n",
    "        \n",
    "assert b!=5, f'Can not divide by {b}.'\n",
    "c = a / b\n",
    "print(f\"{a} / {b} = {c}\")"
   ]
  },
  {
   "cell_type": "code",
   "execution_count": 45,
   "id": "f8a9b772",
   "metadata": {},
   "outputs": [
    {
     "name": "stdout",
     "output_type": "stream",
     "text": [
      "enter first number: 5\n",
      "enter second number: 5\n",
      "Can not divide by 5.\n"
     ]
    }
   ],
   "source": [
    "a = input('enter first number: ')\n",
    "b = input('enter second number: ')\n",
    "\n",
    "try:\n",
    "    assert a.isnumeric() and b.isnumeric(), 'Please enter numerical values only.'\n",
    "    a = int(a)\n",
    "    b = int(b)\n",
    "\n",
    "    assert b!=5, f'Can not divide by {b}.'\n",
    "    c = a / b\n",
    "    print(f\"{a} / {b} = {c}\")\n",
    "except Exception as err:\n",
    "    print(err)"
   ]
  },
  {
   "cell_type": "code",
   "execution_count": null,
   "id": "8394e94a",
   "metadata": {},
   "outputs": [],
   "source": []
  }
 ],
 "metadata": {
  "kernelspec": {
   "display_name": "Python 3 (ipykernel)",
   "language": "python",
   "name": "python3"
  },
  "language_info": {
   "codemirror_mode": {
    "name": "ipython",
    "version": 3
   },
   "file_extension": ".py",
   "mimetype": "text/x-python",
   "name": "python",
   "nbconvert_exporter": "python",
   "pygments_lexer": "ipython3",
   "version": "3.11.2"
  }
 },
 "nbformat": 4,
 "nbformat_minor": 5
}
