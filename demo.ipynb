{
 "cells": [
  {
   "cell_type": "code",
   "execution_count": 1,
   "id": "f9566c3e",
   "metadata": {},
   "outputs": [
    {
     "name": "stdout",
     "output_type": "stream",
     "text": [
      "hello jupyter\n"
     ]
    }
   ],
   "source": [
    "# python comment\n",
    "\n",
    "print('hello jupyter')"
   ]
  },
  {
   "attachments": {},
   "cell_type": "markdown",
   "id": "f296ce37",
   "metadata": {},
   "source": [
    "hello\n",
    "\n",
    "# Heading 1\n",
    "## Heading 2\n",
    "### Heading 3\n",
    "#### Heading 4\n",
    "##### Heading 5\n",
    "\n",
    "* ## List item\n",
    "- ## List item\n",
    "\n",
    "> adslkfkj\n",
    "\n",
    "<h1>Heading 1</h1>\n",
    "\n",
    "<table>\n",
    "    <thead>\n",
    "        <tr>\n",
    "            <th>Roll No.</th>\n",
    "            <th>Name</th>\n",
    "        </tr>\n",
    "    </thead>\n",
    "    <tbody>\n",
    "        <tr>\n",
    "            <td>Roll No.</td>\n",
    "            <td>Name</td>\n",
    "        </tr>\n",
    "    </tbody>\n",
    "</table>"
   ]
  },
  {
   "cell_type": "code",
   "execution_count": 1,
   "id": "cca65f1a",
   "metadata": {},
   "outputs": [],
   "source": [
    "small = ''\n",
    "capital = ''\n",
    "for c in range(97, 123):\n",
    "    small += chr(c)\n",
    "else:\n",
    "    capital = small.upper()\n",
    "\n",
    "numbers = ''\n",
    "for n in range(48, 58):\n",
    "    numbers += chr(n)\n",
    "\n",
    "special_chars = ''\n",
    "avoid_sp_chars = [',',\"'\",'\"',\"(\",\")\",\"[\",\"]\",\"{\",\"}\",\".\",\":\",\";\",\"<\",\">\",\"/\",\"\\\\\"]\n",
    "for i in range(33, 96):\n",
    "    if not chr(i).isalnum() and not chr(i) in avoid_sp_chars:\n",
    "        special_chars += chr(i)"
   ]
  },
  {
   "cell_type": "code",
   "execution_count": 3,
   "id": "9873e319",
   "metadata": {},
   "outputs": [
    {
     "name": "stdout",
     "output_type": "stream",
     "text": [
      "['m', 'l', 'N', '*', 'Z', 'd', 'g', '$', '2', 'u']\n"
     ]
    }
   ],
   "source": [
    "import random\n",
    "\n",
    "l = [*small + capital + numbers + special_chars]\n",
    "random.shuffle(l)\n",
    "pwd = random.choices(l, k=10)\n",
    "print(pwd)"
   ]
  },
  {
   "cell_type": "code",
   "execution_count": 4,
   "id": "1734ecb4",
   "metadata": {},
   "outputs": [
    {
     "name": "stdout",
     "output_type": "stream",
     "text": [
      "hello\n"
     ]
    }
   ],
   "source": [
    "print('hello')"
   ]
  },
  {
   "cell_type": "code",
   "execution_count": 5,
   "id": "bf9d0e07",
   "metadata": {},
   "outputs": [
    {
     "name": "stdout",
     "output_type": "stream",
     "text": [
      "*\n",
      "**\n",
      "***\n",
      "****\n",
      "*****\n",
      "******\n",
      "*******\n",
      "********\n",
      "*********\n"
     ]
    }
   ],
   "source": [
    "for i in range(1, 10):\n",
    "    print(i * '*')"
   ]
  },
  {
   "cell_type": "code",
   "execution_count": null,
   "id": "82f01966",
   "metadata": {},
   "outputs": [],
   "source": []
  }
 ],
 "metadata": {
  "kernelspec": {
   "display_name": "Python 3 (ipykernel)",
   "language": "python",
   "name": "python3"
  },
  "language_info": {
   "codemirror_mode": {
    "name": "ipython",
    "version": 3
   },
   "file_extension": ".py",
   "mimetype": "text/x-python",
   "name": "python",
   "nbconvert_exporter": "python",
   "pygments_lexer": "ipython3",
   "version": "3.11.2"
  }
 },
 "nbformat": 4,
 "nbformat_minor": 5
}
